{
 "cells": [
  {
   "cell_type": "code",
   "execution_count": 48,
   "id": "a8ea5ab8",
   "metadata": {},
   "outputs": [
    {
     "name": "stdout",
     "output_type": "stream",
     "text": [
      "Size of the image is : (52, 18, 3)\n",
      "Size of the image is : (52, 18, 3)\n",
      "Size of the image is : (52, 18, 3)\n",
      "Size of the image is : (52, 18, 3)\n",
      "Size of the image is : (52, 18, 3)\n",
      "Size of the image is : (52, 18, 3)\n",
      "Size of the image is : (52, 18, 3)\n",
      "Size of the image is : (52, 18, 3)\n",
      "Size of the image is : (52, 18, 3)\n",
      "Size of the image is : (52, 18, 3)\n",
      "Sample of an image pixel data:\n",
      "Image : [[[ 0  0  0]\n",
      "  [ 0  0  0]\n",
      "  [ 0  0  0]\n",
      "  ...\n",
      "  [ 0  0  0]\n",
      "  [ 0  0  0]\n",
      "  [ 0  0  0]]\n",
      "\n",
      " [[ 0  0  0]\n",
      "  [ 0  0  0]\n",
      "  [ 0  0  0]\n",
      "  ...\n",
      "  [ 0  0  0]\n",
      "  [ 0  0  0]\n",
      "  [ 0  0  0]]\n",
      "\n",
      " [[ 0  0  0]\n",
      "  [ 0  0  0]\n",
      "  [ 0  0  0]\n",
      "  ...\n",
      "  [46 71 87]\n",
      "  [38 60 76]\n",
      "  [ 0  0  0]]\n",
      "\n",
      " ...\n",
      "\n",
      " [[ 0  0  0]\n",
      "  [33 67 49]\n",
      "  [31 76 29]\n",
      "  ...\n",
      "  [ 0  0  0]\n",
      "  [ 0  0  0]\n",
      "  [ 0  0  0]]\n",
      "\n",
      " [[ 0  0  0]\n",
      "  [33 55 48]\n",
      "  [35 63 44]\n",
      "  ...\n",
      "  [ 0  0  0]\n",
      "  [ 0  0  0]\n",
      "  [ 0  0  0]]\n",
      "\n",
      " [[39 71 71]\n",
      "  [36 56 56]\n",
      "  [36 55 53]\n",
      "  ...\n",
      "  [ 0  0  0]\n",
      "  [ 0  0  0]\n",
      "  [ 0  0  0]]]\n"
     ]
    },
    {
     "data": {
      "image/png": "[encoded data removed]",
      "text/plain": [
       "<Figure size 640x480 with 1 Axes>"
      ]
     },
     "metadata": {},
     "output_type": "display_data"
    }
   ],
   "source": [
    "import cv2\n",
    "import numpy as np\n",
    "from sklearn.cluster import KMeans\n",
    "import os\n",
    "import matplotlib.pyplot as plt\n",
    "import pandas as pd\n",
    "\n",
    "\n",
    "image_path = \"D:/Data science/satellite_images/1_2022_4.tif\"\n",
    "image_folder = \"D:/Data science/satellite_images\"\n",
    "\n",
    "image_list = os.listdir(image_folder)\n",
    "# Data exploration\n",
    "for image_name in image_list[:10]:\n",
    "    image_path = os.path.join(image_folder,image_name)\n",
    "    image  = cv2.imread(image_path)\n",
    "    print(f\"Size of the image is : {image.shape}\")\n",
    "print(f\"Sample of an image pixel data:\")\n",
    "print(f\"Image : {image}\")\n",
    "# As we can see there is lot of zero values associated here which from my observations corresponds to blank black spaces corresponds to zero alpha values\n",
    "\n",
    "# Image visualisation\n",
    "image = cv2.imread(image_path)\n",
    "plt.imshow(image)\n",
    "plt.show()\n",
    "# as we cam see image data has some unncessasry values in form of zero values of padding which is different in every cases\n",
    "# Hence need to remove this values which does not contribute much to results"
   ]
  },
  {
   "cell_type": "markdown",
   "id": "84c6403d",
   "metadata": {},
   "source": [
    "## After doing data exploration\n",
    "### Conclusion is that unnecessary zeros creates problem that need to removed\n",
    "Also since our data has prominently only two colors majorly which is Brown and green on the distribution of this two colors class of the image can be predicted but for that we need to delete all the unnecesssary zero terms.\n",
    "\n",
    "After doing this approach will be to form a histogram which collects the counts of color being in the different range and on the basis of that distribution K-Means clustering will cluster data in THREE Classes. \n",
    "Since our data is Unsupervised and things can be achieved from conventional machine learning algorithms K-Means clustering.\n",
    "\n",
    "But to make Clustering more accurate only important imformation has to be feed and to do this Principal Component Analysis method comes to help to reduce dimensionality and transform the data which can be more informative."
   ]
  },
  {
   "cell_type": "code",
   "execution_count": 40,
   "id": "fd2e8f76",
   "metadata": {},
   "outputs": [],
   "source": [
    "def extract_color_features(image_path):\n",
    "    # Read the image\n",
    "    image = cv2.imread(image_path)\n",
    "    \n",
    "    # Convert the image to RGB\n",
    "    image_rgb = cv2.cvtColor(image, cv2.COLOR_BGR2RGB)\n",
    "\n",
    "    # Flatten the image into a 1D array\n",
    "    pixels = image_rgb.reshape((-1, 3))\n",
    "    pixels = pixels.flatten()\n",
    "    \n",
    "    #as there is unncessary white spaces which is not needed hence we have removed value zero which describes zero alpha value\n",
    "    #outside of necessary field. Dropping zeros to improve performance\n",
    "    \n",
    "    pixels = pixels[pixels != 0]\n",
    "    \n",
    "    # Calculate the color histogram\n",
    "    hist = np.histogramdd(pixels,bins = 255)[0]\n",
    "    \n",
    "    # Normalize the histogram\n",
    "    hist /= hist.sum()\n",
    "    \n",
    "    return hist.flatten()"
   ]
  },
  {
   "cell_type": "code",
   "execution_count": 41,
   "id": "9afa053f",
   "metadata": {},
   "outputs": [],
   "source": [
    "def create_feature_matrix(image_folder):\n",
    "    features = []\n",
    "    for filename in os.listdir(image_folder):\n",
    "        if filename.endswith(\".tif\") or filename.endswith(\".png\"):  # Adjust based on your image format\n",
    "            image_path = os.path.join(image_folder, filename)\n",
    "            color_features = extract_color_features(image_path)\n",
    "            features.append(color_features)\n",
    "    return np.array(features)"
   ]
  },
  {
   "cell_type": "code",
   "execution_count": 42,
   "id": "503d9825",
   "metadata": {},
   "outputs": [],
   "source": [
    "image_dataset = create_feature_matrix(image_folder)"
   ]
  },
  {
   "cell_type": "code",
   "execution_count": 43,
   "id": "6918696d",
   "metadata": {},
   "outputs": [
    {
     "data": {
      "text/plain": [
       "6816"
      ]
     },
     "execution_count": 43,
     "metadata": {},
     "output_type": "execute_result"
    }
   ],
   "source": [
    "len(image_dataset)"
   ]
  },
  {
   "cell_type": "code",
   "execution_count": 44,
   "id": "2b9b6cf4",
   "metadata": {},
   "outputs": [
    {
     "data": {
      "image/png": "[encoded data removed]",
      "text/plain": [
       "<Figure size 640x480 with 1 Axes>"
      ]
     },
     "metadata": {},
     "output_type": "display_data"
    }
   ],
   "source": [
    "# Lets apply feature analysis before diving into clustering\n",
    "from sklearn.decomposition import PCA\n",
    "\n",
    "pca = PCA(n_components=None) \n",
    "flattened_dataset_pca = pca.fit_transform(image_dataset)\n",
    "\n",
    "# Plotting the explained variance ratio\n",
    "import matplotlib.pyplot as plt\n",
    "\n",
    "explained_variance_ratio = pca.explained_variance_ratio_\n",
    "cumulative_explained_variance = np.cumsum(explained_variance_ratio)\n",
    "\n",
    "# Ploting the cumulative explained variance\n",
    "plt.xlim(0,len(image_dataset[0]))\n",
    "plt.ylim(0,1)\n",
    "plt.plot(cumulative_explained_variance)\n",
    "plt.xlabel('Number of Components')\n",
    "plt.ylabel('Cumulative Explained Variance')\n",
    "plt.title('Explained Variance by Principal Components')\n",
    "plt.grid(True)"
   ]
  },
  {
   "cell_type": "markdown",
   "id": "37cd4315",
   "metadata": {},
   "source": [
    "As 95% variance could also be explained with Number of  components between 150 to 200. \n",
    "\n",
    "But chose between value which is Number of component = 180"
   ]
  },
  {
   "cell_type": "code",
   "execution_count": 45,
   "id": "46185a09",
   "metadata": {},
   "outputs": [],
   "source": [
    "n_components_final = 170  # Replace with your chosen number or threshold\n",
    "\n",
    "# Reapply PCA with the chosen number of components\n",
    "pca_final = PCA(n_components=n_components_final)\n",
    "flattened_dataset_pca_final = pca_final.fit_transform(image_dataset)"
   ]
  },
  {
   "cell_type": "code",
   "execution_count": 46,
   "id": "bdde35e2",
   "metadata": {},
   "outputs": [
    {
     "name": "stdout",
     "output_type": "stream",
     "text": [
      "The shape of image dataset is (6816, 255) and shape of the image in side of dataset is (255,)\n"
     ]
    }
   ],
   "source": [
    "print(f\"The shape of image dataset is {image_dataset.shape} and shape of the image in side of dataset is {image_dataset[5].shape}\")"
   ]
  },
  {
   "cell_type": "code",
   "execution_count": 47,
   "id": "741d65d0",
   "metadata": {},
   "outputs": [
    {
     "name": "stderr",
     "output_type": "stream",
     "text": [
      "C:\\Users\\91942\\AppData\\Local\\Programs\\Python\\Python311\\Lib\\site-packages\\sklearn\\cluster\\_kmeans.py:1412: FutureWarning: The default value of `n_init` will change from 10 to 'auto' in 1.4. Set the value of `n_init` explicitly to suppress the warning\n",
      "  super()._check_params_vs_input(X, default_n_init=10)\n"
     ]
    }
   ],
   "source": [
    "# Now lets apply clustering to the image data and divide it in classes\n",
    "kmeans = KMeans(n_clusters=3,max_iter=500)\n",
    "labels = kmeans.fit_predict(flattened_dataset_pca_final)"
   ]
  },
  {
   "cell_type": "code",
   "execution_count": 56,
   "id": "dc0a39bd",
   "metadata": {},
   "outputs": [],
   "source": [
    "class_mapping = {0:'No Crop', 1:'Growing',2:'Lush'}\n",
    "class_data = [class_mapping[value] for value in labels]\n",
    "output_class_dataframe = pd.DataFrame(class_data,columns=['Classification'])"
   ]
  },
  {
   "cell_type": "code",
   "execution_count": 57,
   "id": "2fd5ab7b",
   "metadata": {},
   "outputs": [
    {
     "data": {
      "text/html": [
       "<div>\n",
       "<style scoped>\n",
       "    .dataframe tbody tr th:only-of-type {\n",
       "        vertical-align: middle;\n",
       "    }\n",
       "\n",
       "    .dataframe tbody tr th {\n",
       "        vertical-align: top;\n",
       "    }\n",
       "\n",
       "    .dataframe thead th {\n",
       "        text-align: right;\n",
       "    }\n",
       "</style>\n",
       "<table border=\"1\" class=\"dataframe\">\n",
       "  <thead>\n",
       "    <tr style=\"text-align: right;\">\n",
       "      <th></th>\n",
       "      <th>Classification</th>\n",
       "    </tr>\n",
       "  </thead>\n",
       "  <tbody>\n",
       "    <tr>\n",
       "      <th>0</th>\n",
       "      <td>No Crop</td>\n",
       "    </tr>\n",
       "    <tr>\n",
       "      <th>1</th>\n",
       "      <td>No Crop</td>\n",
       "    </tr>\n",
       "    <tr>\n",
       "      <th>2</th>\n",
       "      <td>No Crop</td>\n",
       "    </tr>\n",
       "    <tr>\n",
       "      <th>3</th>\n",
       "      <td>Growing</td>\n",
       "    </tr>\n",
       "    <tr>\n",
       "      <th>4</th>\n",
       "      <td>Growing</td>\n",
       "    </tr>\n",
       "    <tr>\n",
       "      <th>...</th>\n",
       "      <td>...</td>\n",
       "    </tr>\n",
       "    <tr>\n",
       "      <th>6811</th>\n",
       "      <td>No Crop</td>\n",
       "    </tr>\n",
       "    <tr>\n",
       "      <th>6812</th>\n",
       "      <td>No Crop</td>\n",
       "    </tr>\n",
       "    <tr>\n",
       "      <th>6813</th>\n",
       "      <td>No Crop</td>\n",
       "    </tr>\n",
       "    <tr>\n",
       "      <th>6814</th>\n",
       "      <td>No Crop</td>\n",
       "    </tr>\n",
       "    <tr>\n",
       "      <th>6815</th>\n",
       "      <td>No Crop</td>\n",
       "    </tr>\n",
       "  </tbody>\n",
       "</table>\n",
       "<p>6816 rows × 1 columns</p>\n",
       "</div>"
      ],
      "text/plain": [
       "     Classification\n",
       "0           No Crop\n",
       "1           No Crop\n",
       "2           No Crop\n",
       "3           Growing\n",
       "4           Growing\n",
       "...             ...\n",
       "6811        No Crop\n",
       "6812        No Crop\n",
       "6813        No Crop\n",
       "6814        No Crop\n",
       "6815        No Crop\n",
       "\n",
       "[6816 rows x 1 columns]"
      ]
     },
     "execution_count": 57,
     "metadata": {},
     "output_type": "execute_result"
    }
   ],
   "source": [
    "output_class_dataframe"
   ]
  },
  {
   "cell_type": "markdown",
   "id": "1eb17a4b",
   "metadata": {},
   "source": [
    "0 : No crops\n",
    "1 : Growing\n",
    "2 : Lush"
   ]
  },
  {
   "cell_type": "code",
   "execution_count": 58,
   "id": "34276860",
   "metadata": {},
   "outputs": [
    {
     "name": "stdout",
     "output_type": "stream",
     "text": [
      "Silhouette Score: 0.0063684235088074526\n"
     ]
    }
   ],
   "source": [
    "# Lets evaluate our results using silhouette_score\n",
    "from sklearn.metrics import silhouette_score\n",
    "\n",
    "def calculate_silhouette_score(data_points, labels):\n",
    "    \"\"\"\n",
    "    Calculate the Silhouette Score for a clustering.\n",
    "\n",
    "    Parameters:\n",
    "    - data_points: Numpy array of shape (n_samples, n_features) representing data points.\n",
    "    - labels: Numpy array of shape (n_samples,) representing cluster labels.\n",
    "\n",
    "    Returns:\n",
    "    - silhouette: Silhouette Score.\n",
    "    \"\"\"\n",
    "    silhouette = silhouette_score(data_points, labels)\n",
    "    return silhouette\n",
    "\n",
    "# Calculate Silhouette Score\n",
    "silhouette_score_value = calculate_silhouette_score(image_dataset, labels)\n",
    "print(\"Silhouette Score:\", silhouette_score_value)"
   ]
  },
  {
   "cell_type": "markdown",
   "id": "7299d701",
   "metadata": {},
   "source": [
    "From the silhouette score it can be seen that clusters are not well-separated."
   ]
  },
  {
   "cell_type": "code",
   "execution_count": null,
   "id": "b8f5ec99",
   "metadata": {},
   "outputs": [],
   "source": []
  }
 ],
 "metadata": {
  "kernelspec": {
   "display_name": "Python 3 (ipykernel)",
   "language": "python",
   "name": "python3"
  },
  "language_info": {
   "codemirror_mode": {
    "name": "ipython",
    "version": 3
   },
   "file_extension": ".py",
   "mimetype": "text/x-python",
   "name": "python",
   "nbconvert_exporter": "python",
   "pygments_lexer": "ipython3",
   "version": "3.11.3"
  }
 },
 "nbformat": 4,
 "nbformat_minor": 5
}
